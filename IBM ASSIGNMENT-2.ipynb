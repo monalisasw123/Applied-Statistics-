{
 "cells": [
  {
   "cell_type": "code",
   "execution_count": 67,
   "id": "36631bc0-bb25-4d80-880c-c610ef2a8ede",
   "metadata": {},
   "outputs": [
    {
     "data": {
      "image/png": "[encoded data removed]",
      "text/plain": [
       "<Figure size 640x480 with 1 Axes>"
      ]
     },
     "metadata": {},
     "output_type": "display_data"
    }
   ],
   "source": [
    "import numpy as np\n",
    "import matplotlib.pyplot as plt\n",
    "\n",
    "# Generate binomial data\n",
    "x = np.random.binomial(n=10, p=0.5, size=10)\n",
    "\n",
    "# Create a histogram\n",
    "plt.hist(x, bins=range(12), edgecolor='black', alpha=0.7)\n",
    "plt.title('Binomial Distribution')\n",
    "plt.xlabel('Number of Successes')\n",
    "plt.ylabel('Frequency')\n",
    "plt.grid(True)\n",
    "plt.show()"
   ]
  },
  {
   "cell_type": "code",
   "execution_count": 3,
   "id": "8cbb88b6-022b-4794-8352-03caf6a6ae55",
   "metadata": {},
   "outputs": [
    {
     "name": "stdout",
     "output_type": "stream",
     "text": [
      "0    P\n",
      "1    a\n",
      "2    n\n",
      "3    d\n",
      "4    a\n",
      "5    s\n",
      "dtype: object\n"
     ]
    }
   ],
   "source": [
    "import pandas as pd\n",
    "import numpy as np\n",
    "info = np.array(['P','a','n','d','a','s'])\n",
    "a = pd.Series(info)\n",
    "print(a)"
   ]
  },
  {
   "cell_type": "code",
   "execution_count": 5,
   "id": "f671a13a-d71d-41b4-a20e-bdcec43cfbfb",
   "metadata": {},
   "outputs": [
    {
     "name": "stdout",
     "output_type": "stream",
     "text": [
      "        0\n",
      "0  Python\n",
      "1  Pandas\n"
     ]
    }
   ],
   "source": [
    "import pandas as pd\n",
    "#a list of strings\n",
    "x = ['Python','Pandas']\n",
    "#calling dataframe constructor on list\n",
    "df = pd.DataFrame(x)\n",
    "print(df)"
   ]
  },
  {
   "cell_type": "code",
   "execution_count": 7,
   "id": "d05c2966-a9c0-42b1-a766-6d8ef03caf34",
   "metadata": {},
   "outputs": [
    {
     "data": {
      "text/plain": [
       "0    Core\n",
       "1     NaN\n",
       "2     NaN\n",
       "3     NaN\n",
       "dtype: object"
      ]
     },
     "execution_count": 7,
     "metadata": {},
     "output_type": "execute_result"
    }
   ],
   "source": [
    "import pandas as pd\n",
    "import numpy as np\n",
    "a = pd.Series(['Java','C','C++',np.nan])\n",
    "a.map({'Java':'Core'})"
   ]
  },
  {
   "cell_type": "code",
   "execution_count": 9,
   "id": "c06c4724-d98d-4395-bdde-8e713bb4da15",
   "metadata": {},
   "outputs": [
    {
     "data": {
      "text/plain": [
       "0    I like Java\n",
       "1       I like C\n",
       "2     I like C++\n",
       "3            NaN\n",
       "dtype: object"
      ]
     },
     "execution_count": 9,
     "metadata": {},
     "output_type": "execute_result"
    }
   ],
   "source": [
    "import pandas as pd\n",
    "import numpy as np\n",
    "a = pd.Series(['Java','C','C++',np.nan])\n",
    "a.map({'Java':'Core'})\n",
    "a.map('I like {}'.format, na_action='ignore')"
   ]
  },
  {
   "cell_type": "code",
   "execution_count": 11,
   "id": "47dff7fa-3489-465d-92b6-3fc5a1ba7995",
   "metadata": {},
   "outputs": [
    {
     "data": {
      "text/html": [
       "<div>\n",
       "<style scoped>\n",
       "    .dataframe tbody tr th:only-of-type {\n",
       "        vertical-align: middle;\n",
       "    }\n",
       "\n",
       "    .dataframe tbody tr th {\n",
       "        vertical-align: top;\n",
       "    }\n",
       "\n",
       "    .dataframe thead th {\n",
       "        text-align: right;\n",
       "    }\n",
       "</style>\n",
       "<table border=\"1\" class=\"dataframe\">\n",
       "  <thead>\n",
       "    <tr style=\"text-align: right;\">\n",
       "      <th></th>\n",
       "      <th>0</th>\n",
       "    </tr>\n",
       "  </thead>\n",
       "  <tbody>\n",
       "    <tr>\n",
       "      <th>0</th>\n",
       "      <td>a</td>\n",
       "    </tr>\n",
       "    <tr>\n",
       "      <th>1</th>\n",
       "      <td>b</td>\n",
       "    </tr>\n",
       "    <tr>\n",
       "      <th>2</th>\n",
       "      <td>c</td>\n",
       "    </tr>\n",
       "  </tbody>\n",
       "</table>\n",
       "</div>"
      ],
      "text/plain": [
       "   0\n",
       "0  a\n",
       "1  b\n",
       "2  c"
      ]
     },
     "execution_count": 11,
     "metadata": {},
     "output_type": "execute_result"
    }
   ],
   "source": [
    "s = pd.Series([\"a\",\"b\",\"c\"])\n",
    "name = \"vals\"\n",
    "s.to_frame()"
   ]
  },
  {
   "cell_type": "code",
   "execution_count": 13,
   "id": "49c3e7ad-6c4c-49ca-ab71-823542e1c9fa",
   "metadata": {},
   "outputs": [
    {
     "name": "stdout",
     "output_type": "stream",
     "text": [
      "       Emp   ID\n",
      "0   Parker  102\n",
      "1     John  107\n",
      "2    Smith  109\n",
      "3  William  114\n"
     ]
    }
   ],
   "source": [
    "import pandas as pd\n",
    "import matplotlib.pyplot as plt\n",
    "emp = ['Parker','John','Smith','William']\n",
    "id = [102,107,109,114]\n",
    "emp_series = pd.Series(emp)\n",
    "id_series = pd.Series(id)\n",
    "frame = {'Emp':emp_series,'ID':id_series}\n",
    "result = pd.DataFrame(frame)\n",
    "print(result)"
   ]
  },
  {
   "cell_type": "code",
   "execution_count": 17,
   "id": "b2b820fb-e617-4898-8862-c9501d9515d0",
   "metadata": {},
   "outputs": [
    {
     "name": "stdout",
     "output_type": "stream",
     "text": [
      "    ID Department\n",
      "0  101        Bsc\n",
      "1  102      Btech\n",
      "2  103      Mtech\n"
     ]
    }
   ],
   "source": [
    "import pandas as pd\n",
    "info = {'ID':[101,102,103],'Department':['Bsc','Btech','Mtech']}\n",
    "df = pd.DataFrame(info)\n",
    "print(df)"
   ]
  },
  {
   "cell_type": "code",
   "execution_count": 21,
   "id": "be2a59f0-6f0a-49ab-ad7c-277620c4472b",
   "metadata": {},
   "outputs": [
    {
     "name": "stdout",
     "output_type": "stream",
     "text": [
      "   one  two\n",
      "a  1.0    1\n",
      "b  2.0    2\n",
      "c  3.0    3\n",
      "d  4.0    4\n",
      "e  5.0    5\n",
      "f  6.0    6\n",
      "g  NaN    7\n",
      "h  NaN    8\n"
     ]
    }
   ],
   "source": [
    "import pandas as pd\n",
    "info = {'one':pd.Series([1,2,3,4,5,6], index = ['a','b','c','d','e','f']), 'two':pd.Series([1,2,3,4,5,6,7,8], index = ['a','b','c','d','e','f','g','h'])}\n",
    "d1 = pd.DataFrame(info)\n",
    "print(d1)"
   ]
  },
  {
   "cell_type": "code",
   "execution_count": 69,
   "id": "4f8246f4-2b12-45c4-9d71-4cca4c146d07",
   "metadata": {},
   "outputs": [
    {
     "name": "stdout",
     "output_type": "stream",
     "text": [
      "      Name  Age         City\n",
      "0    Alice   25     New York\n",
      "1      Bob   30  Los Angeles\n",
      "2  Charlie   35      Chicago\n"
     ]
    }
   ],
   "source": [
    "# Creating the dictionary with name, age, and city and convert it into dataframe \n",
    "import pandas as pd\n",
    "data = {\n",
    "    'Name': ['Alice', 'Bob', 'Charlie'],\n",
    "    'Age': [25, 30, 35],\n",
    "    'City': ['New York', 'Los Angeles', 'Chicago']\n",
    "}\n",
    "df = pd.DataFrame(data)\n",
    "print(df)"
   ]
  },
  {
   "cell_type": "code",
   "execution_count": 71,
   "id": "b7eae805-2a53-4099-a192-272445a62e92",
   "metadata": {},
   "outputs": [
    {
     "name": "stdout",
     "output_type": "stream",
     "text": [
      "      Name  Age         City\n",
      "0    Alice   25     New York\n",
      "1      Bob   30  Los Angeles\n",
      "2  Charlie   35      Chicago\n"
     ]
    }
   ],
   "source": [
    "# Creating a list of lists\n",
    "import pandas as pd\n",
    "data = [\n",
    "    ['Alice', 25, 'New York'],\n",
    "    ['Bob', 30, 'Los Angeles'],\n",
    "    ['Charlie', 35, 'Chicago']\n",
    "]\n",
    "columns = ['Name', 'Age', 'City']\n",
    "df = pd.DataFrame(data, columns=columns)\n",
    "print(df)"
   ]
  },
  {
   "cell_type": "code",
   "execution_count": 25,
   "id": "3e3c588b-498e-4e5c-9606-f1813aec7516",
   "metadata": {},
   "outputs": [
    {
     "name": "stdout",
     "output_type": "stream",
     "text": [
      "Add new column by passing  series\n",
      "   one  two  three\n",
      "a  1.0    1   20.0\n",
      "b  2.0    2   40.0\n",
      "c  3.0    3   60.0\n",
      "d  4.0    4    NaN\n",
      "e  5.0    5    NaN\n",
      "f  NaN    6    NaN\n",
      "Add new column using existing DataFrame columns\n",
      "   one  two  three  four\n",
      "a  1.0    1   20.0  21.0\n",
      "b  2.0    2   40.0  42.0\n",
      "c  3.0    3   60.0  63.0\n",
      "d  4.0    4    NaN   NaN\n",
      "e  5.0    5    NaN   NaN\n",
      "f  NaN    6    NaN   NaN\n"
     ]
    }
   ],
   "source": [
    "import pandas as pd\n",
    "info = {'one':pd.Series([1,2,3,4,5], index = ['a','b','c','d','e']), 'two':pd.Series([1,2,3,4,5,6], index = ['a','b','c','d','e','f'])}\n",
    "df = pd.DataFrame(info)\n",
    "#add a new column to an existing dataframe object\n",
    "print(\"Add new column by passing  series\")\n",
    "df['three'] = pd.Series([20,40,60], index = ['a','b','c'])\n",
    "print(df)\n",
    "print(\"Add new column using existing DataFrame columns\")\n",
    "df['four'] = df['one'] + df['three']\n",
    "print(df)"
   ]
  },
  {
   "cell_type": "code",
   "execution_count": 27,
   "id": "aa9bdc1c-1ca1-4df1-9739-0d0867c2d689",
   "metadata": {},
   "outputs": [
    {
     "name": "stdout",
     "output_type": "stream",
     "text": [
      "The DataFrame:\n",
      "   one  two\n",
      "a  1.0    1\n",
      "b  2.0    2\n",
      "c  NaN    3\n",
      "Delete the first column:\n",
      "   two\n",
      "a    1\n",
      "b    2\n",
      "c    3\n",
      "delete the another column:\n",
      "Empty DataFrame\n",
      "Columns: []\n",
      "Index: [a, b, c]\n"
     ]
    }
   ],
   "source": [
    "import pandas as pd\n",
    "info = {'one':pd.Series([1,2], index = ['a','b']), 'two':pd.Series([1,2,3], index = ['a','b','c'])}\n",
    "df = pd.DataFrame(info)\n",
    "print(\"The DataFrame:\")\n",
    "print(df)\n",
    "print(\"Delete the first column:\")\n",
    "del df['one']\n",
    "print(df)\n",
    "#using pop function \n",
    "print(\"delete the another column:\")\n",
    "df.pop('two')\n",
    "print(df)"
   ]
  },
  {
   "cell_type": "code",
   "execution_count": 31,
   "id": "2220f933-a17c-49f6-aa18-660dc14e386b",
   "metadata": {},
   "outputs": [
    {
     "name": "stdout",
     "output_type": "stream",
     "text": [
      "one    2.0\n",
      "two    2.0\n",
      "Name: b, dtype: float64\n"
     ]
    }
   ],
   "source": [
    "import pandas as pd\n",
    "info = {'one': pd.Series([1,2,3,4,5], index = ['a','b','c','d','e']), 'two': pd.Series([1,2,3,4,5,6], index = ['a','b','c','d','e','f'])}\n",
    "df = pd.DataFrame(info)\n",
    "print(df.loc['b'])"
   ]
  },
  {
   "cell_type": "code",
   "execution_count": 33,
   "id": "f037ca65-b43a-47d2-a6d1-0e435b24d916",
   "metadata": {},
   "outputs": [
    {
     "name": "stdout",
     "output_type": "stream",
     "text": [
      "DataFrame:\n",
      "      Name   ID Dept Grade\n",
      "0    Alice  101  CSE     A\n",
      "1      Bob  102  ECE     B\n",
      "2  Charlie  103  CSE     A\n",
      "3    David  104   ME     C\n",
      "4      Eva  105  ECE     B\n",
      "\n",
      "Students in CSE Dept:\n",
      "      Name   ID Dept Grade\n",
      "0    Alice  101  CSE     A\n",
      "2  Charlie  103  CSE     A\n",
      "\n",
      "Student at iloc 2:\n",
      "Name     Charlie\n",
      "ID           103\n",
      "Dept         CSE\n",
      "Grade          A\n",
      "Name: 2, dtype: object\n",
      "\n",
      "Student ID of iloc 2: 103\n"
     ]
    }
   ],
   "source": [
    "# Create a dictionary with student details\n",
    "import pandas as pd\n",
    "student_data = {\n",
    "    'Name': ['Alice', 'Bob', 'Charlie', 'David', 'Eva'],\n",
    "    'ID': [101, 102, 103, 104, 105],\n",
    "    'Dept': ['CSE', 'ECE', 'CSE', 'ME', 'ECE'],\n",
    "    'Grade': ['A', 'B', 'A', 'C', 'B']\n",
    "}\n",
    "\n",
    "# Convert dictionary to DataFrame\n",
    "df = pd.DataFrame(student_data)\n",
    "\n",
    "# Display the DataFrame\n",
    "print(\"DataFrame:\")\n",
    "print(df)\n",
    "\n",
    "# Retrieve using the department name (e.g., 'CSE')\n",
    "dept_cse_students = df[df['Dept'] == 'CSE']\n",
    "print(\"\\nStudents in CSE Dept:\")\n",
    "print(dept_cse_students)\n",
    "\n",
    "# Retrieve the iloc of index 2 (3rd student in the list)\n",
    "iloc_2 = df.iloc[2]\n",
    "print(\"\\nStudent at iloc 2:\")\n",
    "print(iloc_2)\n",
    "\n",
    "# Retrieve the student ID of a specific student (iloc 2 in this case)\n",
    "student_id = df.iloc[2]['ID']\n",
    "print(f\"\\nStudent ID of iloc 2: {student_id}\")"
   ]
  },
  {
   "cell_type": "code",
   "execution_count": 37,
   "id": "8402ba3f-fd97-4588-8536-4516e5cf52a5",
   "metadata": {},
   "outputs": [
    {
     "name": "stdout",
     "output_type": "stream",
     "text": [
      "   one  two\n",
      "c  3.0    3\n",
      "d  4.0    4\n",
      "e  5.0    5\n"
     ]
    }
   ],
   "source": [
    "import pandas as pd \n",
    "info={'one':pd.Series([1,2,3,4,5],index=['a','b','c','d','e']),\n",
    "      'two':pd.Series([1,2,3,4,5,6],index=['a','b','c','d','e','f'])}\n",
    "df=pd.DataFrame(info)\n",
    "print(df[2:5])"
   ]
  },
  {
   "cell_type": "code",
   "execution_count": 85,
   "id": "78a76439-1af4-4b8b-8d4d-b778588079c3",
   "metadata": {},
   "outputs": [
    {
     "name": "stdout",
     "output_type": "stream",
     "text": [
      "    x   y\n",
      "0   7   8\n",
      "1   9  10\n",
      "0  11  12\n",
      "1  13  14\n"
     ]
    }
   ],
   "source": [
    "#for appending the Dataframe1 and dataframe2\n",
    "import pandas as pd\n",
    "d=pd.DataFrame([[7,8],[9,10]],columns=['x','y'])\n",
    "d2=pd.DataFrame([[11,12],[13,14]],columns=['x','y'])\n",
    "d=pd.concat([d,d2])\n",
    "print(d)"
   ]
  },
  {
   "cell_type": "code",
   "execution_count": 53,
   "id": "0823bb31-5204-4227-b5c8-6804a8e39820",
   "metadata": {},
   "outputs": [
    {
     "name": "stdout",
     "output_type": "stream",
     "text": [
      "    GENDER  AGE  SMOKING  YELLOW_FINGERS  ANXIETY  PEER_PRESSURE  \\\n",
      "0        M   69        1               2        2              1   \n",
      "1        M   74        2               1        1              1   \n",
      "2        F   59        1               1        1              2   \n",
      "3        M   63        2               2        2              1   \n",
      "4        F   63        1               2        1              1   \n",
      "..     ...  ...      ...             ...      ...            ...   \n",
      "304      F   56        1               1        1              2   \n",
      "305      M   70        2               1        1              1   \n",
      "306      M   58        2               1        1              1   \n",
      "307      M   67        2               1        2              1   \n",
      "308      M   62        1               1        1              2   \n",
      "\n",
      "     CHRONIC DISEASE  FATIGUE   ALLERGY   WHEEZING  ALCOHOL CONSUMING  \\\n",
      "0                  1         2         1         2                  2   \n",
      "1                  2         2         2         1                  1   \n",
      "2                  1         2         1         2                  1   \n",
      "3                  1         1         1         1                  2   \n",
      "4                  1         1         1         2                  1   \n",
      "..               ...       ...       ...       ...                ...   \n",
      "304                2         2         1         1                  2   \n",
      "305                1         2         2         2                  2   \n",
      "306                1         1         2         2                  2   \n",
      "307                1         2         2         1                  2   \n",
      "308                1         2         2         2                  2   \n",
      "\n",
      "     COUGHING  SHORTNESS OF BREATH  SWALLOWING DIFFICULTY  CHEST PAIN  \\\n",
      "0           2                    2                      2           2   \n",
      "1           1                    2                      2           2   \n",
      "2           2                    2                      1           2   \n",
      "3           1                    1                      2           2   \n",
      "4           2                    2                      1           1   \n",
      "..        ...                  ...                    ...         ...   \n",
      "304         2                    2                      2           1   \n",
      "305         2                    2                      1           2   \n",
      "306         2                    1                      1           2   \n",
      "307         2                    2                      1           2   \n",
      "308         1                    1                      2           1   \n",
      "\n",
      "    LUNG_CANCER  \n",
      "0           YES  \n",
      "1           YES  \n",
      "2            NO  \n",
      "3            NO  \n",
      "4            NO  \n",
      "..          ...  \n",
      "304         YES  \n",
      "305         YES  \n",
      "306         YES  \n",
      "307         YES  \n",
      "308         YES  \n",
      "\n",
      "[309 rows x 16 columns]\n"
     ]
    }
   ],
   "source": [
    "import pandas as pd \n",
    "data=pd.read_csv(\"C:\\\\Users\\\\sripa\\\\Downloads\\\\archive.zip\")\n",
    "print(data)"
   ]
  },
  {
   "cell_type": "code",
   "execution_count": 55,
   "id": "31bfb2bf-acd5-4578-bece-5fe8d4e4f40d",
   "metadata": {},
   "outputs": [
    {
     "name": "stdout",
     "output_type": "stream",
     "text": [
      "<bound method NDFrame.head of    one  two\n",
      "a  1.0    1\n",
      "b  2.0    2\n",
      "c  3.0    3\n",
      "d  4.0    4\n",
      "e  5.0    5\n",
      "f  NaN    6>\n"
     ]
    }
   ],
   "source": [
    "print(df.head)"
   ]
  },
  {
   "cell_type": "code",
   "execution_count": 57,
   "id": "0a2b563e-3693-49f6-aac9-57fd779fb474",
   "metadata": {},
   "outputs": [
    {
     "name": "stdout",
     "output_type": "stream",
     "text": [
      "<bound method NDFrame.tail of    one  two\n",
      "a  1.0    1\n",
      "b  2.0    2\n",
      "c  3.0    3\n",
      "d  4.0    4\n",
      "e  5.0    5\n",
      "f  NaN    6>\n"
     ]
    }
   ],
   "source": [
    "print(df.tail)"
   ]
  },
  {
   "cell_type": "code",
   "execution_count": 59,
   "id": "4fea79f6-42c1-4ecc-945d-10d38fd184a8",
   "metadata": {},
   "outputs": [
    {
     "name": "stdout",
     "output_type": "stream",
     "text": [
      "(6, 2)\n"
     ]
    }
   ],
   "source": [
    "print(df.shape)"
   ]
  },
  {
   "cell_type": "code",
   "execution_count": 61,
   "id": "cbbc1abc-4083-45ce-a6e8-58edf705e27d",
   "metadata": {},
   "outputs": [
    {
     "name": "stdout",
     "output_type": "stream",
     "text": [
      "<bound method DataFrame.info of    one  two\n",
      "a  1.0    1\n",
      "b  2.0    2\n",
      "c  3.0    3\n",
      "d  4.0    4\n",
      "e  5.0    5\n",
      "f  NaN    6>\n"
     ]
    }
   ],
   "source": [
    "print(df.info)"
   ]
  },
  {
   "cell_type": "code",
   "execution_count": 63,
   "id": "e2505f92-cbc8-41a3-9454-a3cf49c56b78",
   "metadata": {},
   "outputs": [
    {
     "name": "stdout",
     "output_type": "stream",
     "text": [
      "<bound method IndexOpsMixin.value_counts of 0    a\n",
      "1    b\n",
      "2    c\n",
      "dtype: object>\n"
     ]
    }
   ],
   "source": [
    "print(s.value_counts)"
   ]
  },
  {
   "cell_type": "code",
   "execution_count": 65,
   "id": "bd49a218-00e6-442b-88d6-40ea98dcd980",
   "metadata": {},
   "outputs": [
    {
     "name": "stdout",
     "output_type": "stream",
     "text": [
      "<bound method NDFrame.describe of    one  two\n",
      "a  1.0    1\n",
      "b  2.0    2\n",
      "c  3.0    3\n",
      "d  4.0    4\n",
      "e  5.0    5\n",
      "f  NaN    6>\n"
     ]
    }
   ],
   "source": [
    "print(df.describe)"
   ]
  },
  {
   "cell_type": "code",
   "execution_count": 81,
   "id": "38bc5419-8ce2-4f5a-bd52-63322824c973",
   "metadata": {},
   "outputs": [
    {
     "name": "stdout",
     "output_type": "stream",
     "text": [
      "<function isna at 0x000002356BD0D9E0>\n"
     ]
    }
   ],
   "source": [
    "print(pd.isnull)"
   ]
  },
  {
   "cell_type": "code",
   "execution_count": 87,
   "id": "165ce267-95cf-4425-80ad-ff027e7c3e0c",
   "metadata": {},
   "outputs": [
    {
     "name": "stdout",
     "output_type": "stream",
     "text": [
      "<function notna at 0x000002356BD0E200>\n"
     ]
    }
   ],
   "source": [
    "print(pd.notnull)"
   ]
  },
  {
   "cell_type": "code",
   "execution_count": 89,
   "id": "ca95d982-3d16-44f3-aad3-d916cfd18f4b",
   "metadata": {},
   "outputs": [
    {
     "name": "stdout",
     "output_type": "stream",
     "text": [
      "<bound method DataFrame.dropna of       Name  Age         City\n",
      "0    Alice   25     New York\n",
      "1      Bob   30  Los Angeles\n",
      "2  Charlie   35      Chicago>\n"
     ]
    }
   ],
   "source": [
    "print(df.dropna)"
   ]
  },
  {
   "cell_type": "code",
   "execution_count": 93,
   "id": "b9cded46-4766-4ad5-adcd-f4a9900c4762",
   "metadata": {},
   "outputs": [
    {
     "name": "stdout",
     "output_type": "stream",
     "text": [
      "      Name  Age         City\n",
      "0    Alice   25     New York\n",
      "1      Bob   30  Los Angeles\n",
      "2  Charlie   35      Chicago\n"
     ]
    }
   ],
   "source": [
    "print(df.dropna(axis=1))"
   ]
  },
  {
   "cell_type": "code",
   "execution_count": null,
   "id": "b2cc8cbb-05ed-449c-b1f4-26c939fb57d0",
   "metadata": {},
   "outputs": [],
   "source": []
  }
 ],
 "metadata": {
  "kernelspec": {
   "display_name": "Python 3 (ipykernel)",
   "language": "python",
   "name": "python3"
  },
  "language_info": {
   "codemirror_mode": {
    "name": "ipython",
    "version": 3
   },
   "file_extension": ".py",
   "mimetype": "text/x-python",
   "name": "python",
   "nbconvert_exporter": "python",
   "pygments_lexer": "ipython3",
   "version": "3.11.7"
  }
 },
 "nbformat": 4,
 "nbformat_minor": 5
}
